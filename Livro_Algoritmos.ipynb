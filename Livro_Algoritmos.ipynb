{
 "metadata": {
  "language_info": {
   "codemirror_mode": {
    "name": "ipython",
    "version": 3
   },
   "file_extension": ".py",
   "mimetype": "text/x-python",
   "name": "python",
   "nbconvert_exporter": "python",
   "pygments_lexer": "ipython3",
   "version": "3.8.3-final"
  },
  "orig_nbformat": 2,
  "kernelspec": {
   "name": "python3",
   "display_name": "Python 3"
  }
 },
 "nbformat": 4,
 "nbformat_minor": 2,
 "cells": [
  {
   "source": [
    "# Entendendo Algoritmos: Um Guia Ilustrado Para Programadores e Outros Curiosos\n",
    "\n",
    "![](imagem/capa.JPG)\n",
    "\n",
    "Autor: Aditya Y. Bhargava\n",
    "\n",
    "Editora: Novatec Editora; 1ª edição (24 abril 2017)\n",
    "\n",
    "Idioma: Português\n",
    "\n",
    "Página da editora em português: https://novatec.com.br/livros/entendendo-algoritmos/ \n",
    "\n",
    "Erratas da versão em português: https://novatec.com.br/erratas.php?isbn=9788575225639\n",
    "\n",
    "Página do autor no Github: https://github.com/egonSchiele/grokking_algorithms\n",
    "\n",
    "**Aviso:**\n",
    "\n",
    "Esse notebook é um resumo de meus estudos. \n",
    "\n",
    "O livro é ótimo e recomendo a todos que o **comprem**, seja na versão impressa ou na versão digital.\n"
   ],
   "cell_type": "markdown",
   "metadata": {}
  },
  {
   "source": [
    "# Capítulo 1 - Introdução a algoritmos"
   ],
   "cell_type": "markdown",
   "metadata": {}
  },
  {
   "cell_type": "code",
   "execution_count": null,
   "metadata": {},
   "outputs": [],
   "source": [
    "#Algoritmo pesquisa binária \n",
    "def pesquisa_binaria(lista, item):\n",
    "    import math\n",
    "    print('Algoritmo de pesquisa binária')\n",
    "    print(f'A lista fornecida tem {len(lista)} elementos.')\n",
    "    print(f'Haverá, no máximo, {round(math.log2(len(lista)))} etapas de pesquisa.\\n')\n",
    "    if item in lista:        \n",
    "        baixo = 0\n",
    "        alto = len(lista) - 1\n",
    "        n = 1\n",
    "        while baixo <= alto:\n",
    "            meio = (baixo + alto) // 2\n",
    "            chute = lista[meio]\n",
    "            if chute == item:\n",
    "                print('Etapa ', n)\n",
    "                print('\\nO numero é:',lista[meio])\n",
    "                break\n",
    "            if chute > item:\n",
    "                alto = meio - 1\n",
    "                print('Etapa ', n)\n",
    "                n += 1\n",
    "            else:\n",
    "                baixo = meio + 1\n",
    "                print('Etapa ', n)\n",
    "                n += 1\n",
    "    else:\n",
    "        print('Número escolhido não está na lista.')"
   ]
  },
  {
   "cell_type": "code",
   "execution_count": null,
   "metadata": {},
   "outputs": [],
   "source": [
    "#Algoritmo pesquisa simples \n",
    "def pesquisa_simples(lista, item):\n",
    "    print('Algoritmo de pesquisa simples')\n",
    "    print(f'A lista fornecida tem {len(lista)} elementos.')\n",
    "    print(f'Haverá, no máximo, {len(lista)} etapas de pesquisa.\\n')\n",
    "    n = 1\n",
    "    if item in lista:\n",
    "        for i in range(len(lista)):\n",
    "            print('Etapa ', n)\n",
    "            if item == lista[i]:\n",
    "                print('\\nO numero é:',item)\n",
    "                break\n",
    "            n += 1\n",
    "    else:\n",
    "        print('Número escolhido não está na lista.')\n",
    "        "
   ]
  },
  {
   "cell_type": "code",
   "execution_count": null,
   "metadata": {},
   "outputs": [],
   "source": [
    "minha_lista = [1,2,3,4,5,6,7,8,9,10]"
   ]
  },
  {
   "cell_type": "code",
   "execution_count": null,
   "metadata": {},
   "outputs": [],
   "source": [
    "#Testando pesquisa binária\n",
    "pesquisa_binaria(minha_lista,1)"
   ]
  },
  {
   "cell_type": "code",
   "execution_count": null,
   "metadata": {},
   "outputs": [],
   "source": [
    "#Testando pesquisa simples\n",
    "pesquisa_simples(minha_lista,1)"
   ]
  },
  {
   "cell_type": "code",
   "execution_count": null,
   "metadata": {},
   "outputs": [],
   "source": [
    "pesquisa_binaria(minha_lista,11)"
   ]
  },
  {
   "cell_type": "code",
   "execution_count": null,
   "metadata": {},
   "outputs": [],
   "source": [
    "minha_lista2 = range(1,240000)\n",
    "len(minha_lista2)"
   ]
  },
  {
   "cell_type": "code",
   "execution_count": null,
   "metadata": {},
   "outputs": [],
   "source": [
    "pesquisa_binaria(minha_lista2,20)"
   ]
  },
  {
   "cell_type": "code",
   "execution_count": null,
   "metadata": {},
   "outputs": [],
   "source": [
    "pesquisa_simples(minha_lista2,20)"
   ]
  },
  {
   "cell_type": "code",
   "execution_count": null,
   "metadata": {},
   "outputs": [],
   "source": [
    "pesquisa_binaria(minha_lista2,239999)"
   ]
  },
  {
   "cell_type": "code",
   "execution_count": null,
   "metadata": {
    "tags": [
     "outputPrepend"
    ]
   },
   "outputs": [],
   "source": [
    "#Cuidado!!!! A execução demora um pouco\n",
    "pesquisa_simples(minha_lista2,239999)"
   ]
  },
  {
   "cell_type": "code",
   "execution_count": null,
   "metadata": {},
   "outputs": [],
   "source": [
    "#Exercício 1.1 página 28\n",
    "minha_lista3 = range(0,128)\n",
    "pesquisa_binaria(minha_lista3,11)"
   ]
  },
  {
   "cell_type": "code",
   "execution_count": null,
   "metadata": {},
   "outputs": [],
   "source": [
    "#Exercício 1.2 página 28\n",
    "minha_lista4 = range(0,256)\n",
    "pesquisa_binaria(minha_lista4,11)"
   ]
  },
  {
   "source": [
    "## Resumo do capítulo 1\n",
    "\n",
    "A pesquisa binária é muito mais rápida que a pesquisa simples\n",
    "\n",
    "O(log n) é mais rápida que O(n), e O(log n) fica ainda mais rápido conforme os elementos da lista aumentam\n",
    "\n",
    "A rapidez de um algoritmo não é medida em segundos\n",
    "\n",
    "O tempo de execução de um algoritmo é medido por meio de seu crescimento\n",
    "\n",
    "O tempo de execução de um algoritmo é expresso em notação Big O"
   ],
   "cell_type": "markdown",
   "metadata": {}
  },
  {
   "source": [
    "# Capítulo 2 - Ordenação por seleção"
   ],
   "cell_type": "markdown",
   "metadata": {}
  },
  {
   "cell_type": "code",
   "execution_count": null,
   "metadata": {},
   "outputs": [],
   "source": [
    "#Função para achar menor elemento\n",
    "def buscaMenor(arr):\n",
    "    menor = arr[0]    #Atribui o primeiro elemento como menor\n",
    "    menor_indice = 0  #Atribui o índice do primeiro elemento como o menor \n",
    "    for i in range(1, len(arr)):\n",
    "        if arr[i] < menor:\n",
    "            menor = arr[i]\n",
    "            menor_indice = i\n",
    "    return menor_indice  #retorna o índice do menor elemento\n",
    "\n",
    "#Função para ordenar\n",
    "def ordenacaoporSelecao(arr):\n",
    "    novoArr = []\n",
    "    for i in range(len(arr)):\n",
    "        menor = buscaMenor(arr)        #Traz o índice do menor elemento de arr utilizando a função buscaMenor\n",
    "        novoArr.append(arr.pop(menor)) #retira o menor elemento de arr e o adiciona em novoArr\n",
    "    return novoArr"
   ]
  },
  {
   "cell_type": "code",
   "execution_count": null,
   "metadata": {},
   "outputs": [],
   "source": [
    "lista_sem_ordem = [5,3,6,2,10,1]"
   ]
  },
  {
   "cell_type": "code",
   "execution_count": null,
   "metadata": {},
   "outputs": [],
   "source": [
    "ordenacaoporSelecao(lista_sem_ordem)"
   ]
  },
  {
   "source": [
    "## Resumo do capítulo 2\n",
    "\n",
    "A memória do seu computador é como um conjunto gigante de gavetas\n",
    "\n",
    "Quando se quer marmazenar múltiplos elementos, usa-se um array ou um lista\n",
    "\n",
    "No array, todos os elementos são armazenados um ao lado do outro\n",
    "\n",
    "Na lista, os elementos estão espalhados e um elemento armazena o endereço do próximo elemento\n",
    "\n",
    "Arrays permitem leitura rápidas\n",
    "\n",
    "Listas encadeadas permitem rápidas inserções e eliminações\n",
    "\n",
    "![Arrays e Listas](imagem/lista_array_cap_2.JPG)\n",
    "\n",
    "Todos os elementos de um array devem ser do mesmo tipo (todos int, todos double, assim por diante...)"
   ],
   "cell_type": "markdown",
   "metadata": {}
  },
  {
   "source": [
    "# Capítulo 3 - Recursão"
   ],
   "cell_type": "markdown",
   "metadata": {}
  },
  {
   "cell_type": "code",
   "execution_count": null,
   "metadata": {},
   "outputs": [],
   "source": [
    "#Exemplo da página 64\n",
    "def fat(x):\n",
    "    if x == 1:\n",
    "        return 1\n",
    "    else:\n",
    "        return x * fat(x - 1)"
   ]
  },
  {
   "cell_type": "code",
   "execution_count": null,
   "metadata": {},
   "outputs": [],
   "source": [
    "fat(5)"
   ]
  },
  {
   "source": [
    "## Resumo do capítulo 3\n",
    "\n",
    "Recursão é quando uma função chama a si mesma\n",
    "\n",
    "Toda função recursiva tem dois casos: o caso-base e o caso recursivo\n",
    "\n",
    "![Caso-base e caso recursivo](imagem/caso_base_recursivo_cap_3.JPG)\n",
    "\n",
    "Uma pilha tem duas operações: push e pop\n",
    "\n",
    "![Push e Pop](imagem/puh_pop_cap_3.JPG)\n",
    "\n",
    "Todas as chamadas de uma função vão para a pilha de chamadas\n",
    "\n",
    "\n",
    "A pilha de chamada pode ficar muito grande e ocupar muita memória.\n",
    "\n",
    "Cada programa tem uma quantidade limitada de espaço na pilha de chamada.\n",
    "Se a pilha crescer eternamente, o programa fica sem espaço e ocorre \n",
    "um erro de estouro de pilha (stack overflow)"
   ],
   "cell_type": "markdown",
   "metadata": {}
  },
  {
   "source": [
    "# Capítulo 4 - Quicksort"
   ],
   "cell_type": "markdown",
   "metadata": {}
  },
  {
   "cell_type": "code",
   "execution_count": null,
   "metadata": {},
   "outputs": [],
   "source": [
    "#Exercício 4.1\n",
    "def soma(lista):\n",
    "    if lista == []:\n",
    "        return 0\n",
    "    else:\n",
    "        resultado = lista[0] + soma(lista[1:])\n",
    "        return resultado"
   ]
  },
  {
   "cell_type": "code",
   "execution_count": null,
   "metadata": {},
   "outputs": [],
   "source": [
    "lista = [1,1,1,1,1,1]\n",
    "soma(lista)"
   ]
  },
  {
   "cell_type": "code",
   "execution_count": null,
   "metadata": {},
   "outputs": [],
   "source": [
    "#Exercício 4.2\n",
    "def conta(lista):\n",
    "    if lista == []:\n",
    "        return 0\n",
    "    else:\n",
    "        resultado = 1 + conta(lista[1:])\n",
    "        return resultado"
   ]
  },
  {
   "cell_type": "code",
   "execution_count": null,
   "metadata": {},
   "outputs": [],
   "source": [
    "lista = [1,2,3,4,5,6]\n",
    "conta(lista)"
   ]
  },
  {
   "cell_type": "code",
   "execution_count": null,
   "metadata": {},
   "outputs": [],
   "source": [
    "#Exercício 4.3\n",
    "def maximo(lista):\n",
    "    if len(lista) == 2:\n",
    "        if lista[0] > lista[1]:\n",
    "            return lista[0]\n",
    "        else:\n",
    "            return lista[1]\n",
    "    sub_max = maximo(lista[1:])\n",
    "    if lista[0] > sub_max:\n",
    "        return lista[0]\n",
    "    else:\n",
    "        return sub_max"
   ]
  },
  {
   "cell_type": "code",
   "execution_count": null,
   "metadata": {},
   "outputs": [],
   "source": [
    "lista = [7,6,5,4,3,2,1]\n",
    "maximo(lista)"
   ]
  },
  {
   "cell_type": "code",
   "execution_count": null,
   "metadata": {},
   "outputs": [],
   "source": [
    "#Algoritmo do quicksort - página 83\n",
    "#Escolhendo o primeiro elemento como pivô\n",
    "\n",
    "def quicksort(array):\n",
    "    if len(array) < 2:\n",
    "        return array\n",
    "    else:\n",
    "        pivo = array[0]\n",
    "        menores = [i for i in array[1:] if i <= pivo] \n",
    "        maiores = [i for i in array[1:] if i > pivo]\n",
    "        return quicksort(menores) + [pivo] + quicksort(maiores)"
   ]
  },
  {
   "cell_type": "code",
   "execution_count": null,
   "metadata": {},
   "outputs": [],
   "source": [
    "quicksort([1,5,8,3])"
   ]
  },
  {
   "source": [
    "## Resumo do capítulo 4\n",
    "\n",
    "A estratégia DC (dividir para comquistar) funciona por meio da divisão do problema em problemas menores.\n",
    "\n",
    "Se estiver utilizando DC em uma lista, o caso-base provavelmente será um array vazio ou um array com apenas um elemento\n",
    "\n",
    "Se você estiver implementando o quicksort, escolha um elemento aleatório como pivô. O tempo de execução médio do quicksort é O(n log n)\n",
    "\n",
    "![](imagem/quicksort_cap4.JPG)\n",
    "\n",
    "A constante, na notação Big O pode ser relevante em alguns casos. Esta é a razão pela qual quicksort é mais rápido que o merge sort.\n",
    "\n",
    "A constante dificilmente será relevante na comparação entre pesquisa simples e pesquisa binária, pois O(log n) é muito mais rápido do que O(n) quando a lista é grande\n",
    "\n",
    "![](imagem/constante1_cap4.JPG)\n",
    "\n",
    "![](imagem/constante2_cap4.JPG)\n",
    "\n"
   ],
   "cell_type": "markdown",
   "metadata": {}
  },
  {
   "source": [
    "# Capítulo 5 - Tabelas Hash"
   ],
   "cell_type": "markdown",
   "metadata": {}
  },
  {
   "source": [
    "#Tabelas Hash em Python são os dicionários\n",
    "\n",
    "caderno = dict() \n",
    "#caderno = {} faz o mesmo que caderno = dict()\n",
    "\n",
    "caderno['maçã'] = 0.67\n",
    "caderno['leite'] = 1.49\n",
    "caderno['abacate'] = 1.49\n",
    "\n",
    "print(caderno)"
   ],
   "cell_type": "code",
   "metadata": {},
   "execution_count": null,
   "outputs": []
  },
  {
   "cell_type": "code",
   "execution_count": null,
   "metadata": {},
   "outputs": [],
   "source": [
    "print(caderno['maçã'])"
   ]
  },
  {
   "cell_type": "code",
   "execution_count": null,
   "metadata": {},
   "outputs": [],
   "source": [
    "def verifica_eleitor(nome):\n",
    "    if votaram.get(nome):\n",
    "        print('Mande embora!')\n",
    "    else:\n",
    "        votaram[nome] = True\n",
    "        print('Deixe votar!')"
   ]
  },
  {
   "cell_type": "code",
   "execution_count": null,
   "metadata": {},
   "outputs": [],
   "source": [
    "votaram = {}\n",
    "verifica_eleitor('Mike')"
   ]
  },
  {
   "cell_type": "code",
   "execution_count": null,
   "metadata": {},
   "outputs": [],
   "source": [
    "verifica_eleitor('Tom')"
   ]
  },
  {
   "cell_type": "code",
   "execution_count": null,
   "metadata": {},
   "outputs": [],
   "source": [
    "verifica_eleitor('Mike')"
   ]
  },
  {
   "cell_type": "code",
   "execution_count": null,
   "metadata": {},
   "outputs": [],
   "source": [
    "print(votaram)"
   ]
  },
  {
   "source": [
    "## Resumo do capítulo 5\n",
    "\n",
    "Você provavelmente nunca precisará implementar uma tabela hash, pois linguagens de programação que você utiliza deve fornecer uma implementação desta funcionalidade.\n",
    "\n",
    "É possível usar a tabela hash do Python (dicionários) e acreditar que ela operará no caso médio de desempenho: tempo de execução constante\n",
    "\n",
    "![](imagem/tempodeexec_cap5.JPG)\n",
    "\n",
    "Você pode fazer uma tabela hash ao combinar uma função hash com um array\n",
    "\n",
    "Colisões são problemas. É necessário haver uma função hash que minimize colisões\n",
    "\n",
    "As tabelas hash são extremamente rápidas para pesquisar, inserir e remover itens\n",
    "\n",
    "![](imagem/hash_cap5.JPG)\n",
    "\n",
    "Tabelas hash são boas para modelar relações entre dois itens\n",
    "\n",
    "As tabelas hash são utilizadas como cache de dados (como em um servidor da web, por exemplo)\n",
    "\n",
    "Tabelas hash são ótimas para localizar duplicatas\n"
   ],
   "cell_type": "markdown",
   "metadata": {}
  },
  {
   "source": [
    "# Capítulo 6 - Pesquisa em largura"
   ],
   "cell_type": "markdown",
   "metadata": {}
  },
  {
   "cell_type": "code",
   "execution_count": null,
   "metadata": {},
   "outputs": [],
   "source": [
    "grafo = {}\n",
    "grafo['você'] = ['alice', 'bob', 'claire']\n",
    "grafo['bob'] = ['anuj', 'peggy']\n",
    "grafo['alice'] = ['peggy']\n",
    "grafo['claire'] = ['thom', 'jonny']\n",
    "grafo['anuj'] = []\n",
    "grafo['peggy'] = []\n",
    "grafo['thom'] = []\n",
    "grafo['jonny'] = []"
   ]
  },
  {
   "cell_type": "code",
   "execution_count": null,
   "metadata": {},
   "outputs": [],
   "source": [
    "print(grafo)"
   ]
  },
  {
   "cell_type": "code",
   "execution_count": null,
   "metadata": {},
   "outputs": [],
   "source": [
    "from collections import deque\n",
    "\n",
    "#Verifica se a pessoa é vendedora de manga. O critério foi definido no livro.\n",
    "def pessoa_e_vendedor(nome):\n",
    "    return nome[-1] == 'm'\n",
    "\n",
    "def pesquisa(nome):\n",
    "    fila_de_pesquisa = deque()\n",
    "    fila_de_pesquisa += grafo[nome]\n",
    "    verificadas = []\n",
    "    while fila_de_pesquisa:\n",
    "        pessoa = fila_de_pesquisa.popleft()\n",
    "        if not pessoa in verificadas:\n",
    "            if pessoa_e_vendedor(pessoa):\n",
    "                return print('\\n' + pessoa + ' é um vendedor(a) de manga!\\n')\n",
    "            else:\n",
    "                fila_de_pesquisa += grafo[pessoa]\n",
    "                verificadas.append(pessoa)\n",
    "    return False\n",
    "\n",
    "pesquisa('você')"
   ]
  },
  {
   "source": [
    "## Resumo do capítulo 6\n",
    "\n",
    "A pesquisa em largura lhe diz se há um caminho de A para B\n",
    "\n",
    "Se esse caminho existir, a pesquisa em largura lhe dará o **caminho mínimo**\n",
    "\n",
    "Se você tem um problema \"encontre o menor X\", tente modelar o seu problema utilizando grafos e use a pesquisa em largura para resolvê-lo\n",
    "\n",
    "Cada grafo contém vértices (nodes) e arestas (edge)\n",
    "\n",
    "![](imagem/grafo_cap6.JPG)\n",
    "\n",
    "Um dígrafo (grafo direcionado) contém setas e as relações seguem a direção das setas\n",
    "\n",
    "(Alex -> Rama significa \"Alex deve dinheiro para Rama\")\n",
    "\n",
    "![](imagem/alex_rama_cap6.JPG)\n",
    "\n",
    "Grafos não direcionados não contém setas, e a relação acontece nos dois sentidos \n",
    "\n",
    "(Ross - Rachel significa que \"Ross namorou Rachel e Rachel namorou Ross\")\n",
    "\n",
    "![](imagem/ross_rachel_cap6.JPG)\n",
    "\n",
    "**Filas** são **FIFO** (primeiro a entrar, primeiro a sair)\n",
    "\n",
    "**Pilhas** são **LIFO** (último a entrar, primeiro a sair)\n",
    "\n",
    "![](imagem/LIFO_FIFO_cap6.JPG)\n",
    "\n",
    "Você precisa verificar as pessoas na ordem em que elas foram adicionadas à lista de pesquisa. \n",
    "\n",
    "Portanto a lista de pesquisa deve ser uma fila; caso contrário, você não obterá o caminho mínimo\n",
    "\n",
    "Cada vez que você precisar verificar alguém, procure não verificá-lo novamente. Caso contrário, poderá acabar em loop infinito\n",
    "\n",
    "**Árvores** são um tipo especial de grafo em que nenhuma aresta aponta de volta. \n",
    "\n",
    "![](imagem/arvore_cap6.JPG)\n",
    "\n",
    "Na figura abaixo, A e C são árvores. C é uma árvore lateral e B **NÃO** é uma árvore.\n",
    "\n",
    "Toda árvore é um grafo, mas nem todo grafo é uma árvore\n",
    "\n",
    "![](imagem/arvore2_cap6.JPG)\n"
   ],
   "cell_type": "markdown",
   "metadata": {}
  },
  {
   "source": [
    "# Capítulo 7 - Algoritmo de Dijkstra"
   ],
   "cell_type": "markdown",
   "metadata": {}
  },
  {
   "source": [
    "**Implementação do algoritmo Dijkstra**\n",
    "\n",
    "O grafo abaixo terá 3 tabelas\n",
    "\n",
    "GRAPH = tabela hash do grafo \n",
    "\n",
    "COSTS = tabela hash dos custos\n",
    "\n",
    "PARENTS = tabela hash dos pais\n",
    "\n",
    "![](imagem/implementacao_cap7.JPG)"
   ],
   "cell_type": "markdown",
   "metadata": {}
  },
  {
   "cell_type": "code",
   "execution_count": 15,
   "metadata": {},
   "outputs": [
    {
     "output_type": "execute_result",
     "data": {
      "text/plain": [
       "{'inicio': {'a': 6, 'b': 2},\n",
       " 'a': {'fim': 1},\n",
       " 'b': {'a': 3, 'fim': 5},\n",
       " 'fim': {}}"
      ]
     },
     "metadata": {},
     "execution_count": 15
    }
   ],
   "source": [
    "#Tabela grafo (GRAPH)\n",
    "grafo = {}\n",
    "grafo['inicio'] = {}\n",
    "grafo['inicio']['a'] = 6\n",
    "grafo['inicio']['b'] = 2\n",
    "grafo['a'] = {}\n",
    "grafo['a']['fim'] = 1\n",
    "grafo['b'] = {}\n",
    "grafo['b']['a'] = 3\n",
    "grafo['b']['fim'] = 5\n",
    "grafo['fim'] = {}\n",
    "\n",
    "grafo"
   ]
  },
  {
   "cell_type": "code",
   "execution_count": 16,
   "metadata": {},
   "outputs": [
    {
     "output_type": "execute_result",
     "data": {
      "text/plain": [
       "{'a': 6, 'b': 2, 'fim': inf}"
      ]
     },
     "metadata": {},
     "execution_count": 16
    }
   ],
   "source": [
    "#Tabela custos (COSTS)\n",
    "infinito = float('inf')\n",
    "custos = {}\n",
    "custos['a'] = 6\n",
    "custos['b'] = 2\n",
    "custos['fim'] = infinito\n",
    "\n",
    "custos"
   ]
  },
  {
   "cell_type": "code",
   "execution_count": 17,
   "metadata": {},
   "outputs": [
    {
     "output_type": "execute_result",
     "data": {
      "text/plain": [
       "{'a': 'inicio', 'b': 'inicio', 'fim': None}"
      ]
     },
     "metadata": {},
     "execution_count": 17
    }
   ],
   "source": [
    "#Tabela pais (PARENTS)\n",
    "pais = {}\n",
    "pais['a'] = 'inicio'\n",
    "pais['b'] = 'inicio'\n",
    "pais['fim'] = None\n",
    "\n",
    "pais"
   ]
  },
  {
   "cell_type": "code",
   "execution_count": 42,
   "metadata": {},
   "outputs": [
    {
     "output_type": "stream",
     "name": "stdout",
     "text": [
      "\nO peso do caminho mínimo do início ao fim é 6\n"
     ]
    }
   ],
   "source": [
    "#função custo mais baixo\n",
    "def ache_no_custo_mais_baixo(custos):\n",
    "    custo_mais_baixo = float('inf')\n",
    "    nodo_custo_mais_baixo = None\n",
    "    for nodo in custos:\n",
    "        custo = custos[nodo]\n",
    "        if custo < custo_mais_baixo and nodo not in processados:\n",
    "            custo_mais_baixo = custo\n",
    "            nodo_custo_mais_baixo = nodo\n",
    "    return nodo_custo_mais_baixo\n",
    "\n",
    "#Todos os vértices processados\n",
    "processados = []\n",
    "\n",
    "#Algoritmo\n",
    "nodo = ache_no_custo_mais_baixo(custos)\n",
    "while nodo is not None:\n",
    "    custo = custos[nodo]\n",
    "    vizinhos = grafo[nodo]\n",
    "    for n in vizinhos.keys():\n",
    "        novo_custo = custo + vizinhos[n]\n",
    "        if custos[n] > novo_custo:\n",
    "            custos[n] =  novo_custo\n",
    "            pais[n] = nodo\n",
    "    processados.append(nodo)\n",
    "    nodo = ache_no_custo_mais_baixo(custos)\n",
    "print('\\nO peso do caminho mínimo do início ao fim é ' + str(custos['fim']))"
   ]
  },
  {
   "source": [
    "## Resumo do capítulo 7\n",
    "\n",
    "O algoritmo de **pesquisa em largura** encontra o **caminho mínimo** (menor número de segmentos) enquanto que o **Dijkstra** encontra o caminho **mais rápido**\n",
    "\n",
    "![](imagem/comparativo_cap7.JPG)\n",
    "\n",
    "No algoritmo Dijkstra, cada aresta tem um número associado. Esse número é chamado de peso (weight)\n",
    "\n",
    "![](imagem/pesos_cap7.JPG)\n",
    "\n",
    "Um grafo com pesos é chamado de grafo valorado ou ponderado (weighted grafh) e um grafo sem pesos é chamado de grafo não valorado (unweighted graph)\n",
    "\n",
    "![](imagem/ponderado_naopoderado_cap7.JPG)\n",
    "\n",
    "Um grafo não direcionado (ver capítulo anterior) indica que dois vértices apontam um para o outro, ou seja, são um ciclo.\n",
    "\n",
    "![](imagem/ciclo_cap7.JPG)\n",
    "\n",
    "O algoritmo de Dijkstra só funciona em grafos sem ciclos ou grafos com ciclos positivos\n",
    "\n",
    "Se o grafo tiver pesos negativos, use o algoritmo de Bellman-Ford \n",
    "\n",
    "Esse algoritmo não é tratado no livro, mas na internet há explicações sobre explicações\n",
    "\n",
    "Um exemplo pode ser encontrado em https://www.ic.unicamp.br/~ra090743/unip/material/j702/dijkstra+bf.pdf\n"
   ],
   "cell_type": "markdown",
   "metadata": {}
  },
  {
   "source": [
    "# Capítulo 8 - Algoritmos gulosos"
   ],
   "cell_type": "markdown",
   "metadata": {}
  },
  {
   "cell_type": "code",
   "execution_count": null,
   "metadata": {},
   "outputs": [],
   "source": []
  },
  {
   "source": [
    "## Resumo do capítulo 8\n",
    "\n"
   ],
   "cell_type": "markdown",
   "metadata": {}
  },
  {
   "source": [
    "# Capítulo 9 - Programação dinâmica"
   ],
   "cell_type": "markdown",
   "metadata": {}
  },
  {
   "cell_type": "code",
   "execution_count": null,
   "metadata": {},
   "outputs": [],
   "source": []
  },
  {
   "source": [
    "## Resumo do capítulo 9\n",
    "\n"
   ],
   "cell_type": "markdown",
   "metadata": {}
  },
  {
   "source": [
    "# Capítulo 10 - K-vizinhos mais próximos"
   ],
   "cell_type": "markdown",
   "metadata": {}
  },
  {
   "cell_type": "code",
   "execution_count": null,
   "metadata": {},
   "outputs": [],
   "source": []
  },
  {
   "source": [
    "## Resumo do capítulo 10\n",
    "\n"
   ],
   "cell_type": "markdown",
   "metadata": {}
  }
 ]
}